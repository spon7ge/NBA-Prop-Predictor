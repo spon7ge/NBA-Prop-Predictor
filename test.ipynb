{
 "cells": [
  {
   "cell_type": "code",
   "execution_count": null,
   "id": "dd6b8c38",
   "metadata": {},
   "outputs": [
    {
     "data": {
      "text/html": [
       "<div>\n",
       "<style scoped>\n",
       "    .dataframe tbody tr th:only-of-type {\n",
       "        vertical-align: middle;\n",
       "    }\n",
       "\n",
       "    .dataframe tbody tr th {\n",
       "        vertical-align: top;\n",
       "    }\n",
       "\n",
       "    .dataframe thead th {\n",
       "        text-align: right;\n",
       "    }\n",
       "</style>\n",
       "<table border=\"1\" class=\"dataframe\">\n",
       "  <thead>\n",
       "    <tr style=\"text-align: right;\">\n",
       "      <th></th>\n",
       "      <th>Quote</th>\n",
       "    </tr>\n",
       "  </thead>\n",
       "  <tbody>\n",
       "    <tr>\n",
       "      <th>0</th>\n",
       "      <td>“The world as we have created it is a process ...</td>\n",
       "    </tr>\n",
       "    <tr>\n",
       "      <th>1</th>\n",
       "      <td>“It is our choices, Harry, that show what we t...</td>\n",
       "    </tr>\n",
       "    <tr>\n",
       "      <th>2</th>\n",
       "      <td>“There are only two ways to live your life. On...</td>\n",
       "    </tr>\n",
       "    <tr>\n",
       "      <th>3</th>\n",
       "      <td>“The person, be it gentleman or lady, who has ...</td>\n",
       "    </tr>\n",
       "    <tr>\n",
       "      <th>4</th>\n",
       "      <td>“Imperfection is beauty, madness is genius and...</td>\n",
       "    </tr>\n",
       "    <tr>\n",
       "      <th>5</th>\n",
       "      <td>“Try not to become a man of success. Rather be...</td>\n",
       "    </tr>\n",
       "    <tr>\n",
       "      <th>6</th>\n",
       "      <td>“It is better to be hated for what you are tha...</td>\n",
       "    </tr>\n",
       "    <tr>\n",
       "      <th>7</th>\n",
       "      <td>“I have not failed. I've just found 10,000 way...</td>\n",
       "    </tr>\n",
       "    <tr>\n",
       "      <th>8</th>\n",
       "      <td>“A woman is like a tea bag; you never know how...</td>\n",
       "    </tr>\n",
       "    <tr>\n",
       "      <th>9</th>\n",
       "      <td>“A day without sunshine is like, you know, nig...</td>\n",
       "    </tr>\n",
       "  </tbody>\n",
       "</table>\n",
       "</div>"
      ],
      "text/plain": [
       "                                               Quote\n",
       "0  “The world as we have created it is a process ...\n",
       "1  “It is our choices, Harry, that show what we t...\n",
       "2  “There are only two ways to live your life. On...\n",
       "3  “The person, be it gentleman or lady, who has ...\n",
       "4  “Imperfection is beauty, madness is genius and...\n",
       "5  “Try not to become a man of success. Rather be...\n",
       "6  “It is better to be hated for what you are tha...\n",
       "7  “I have not failed. I've just found 10,000 way...\n",
       "8  “A woman is like a tea bag; you never know how...\n",
       "9  “A day without sunshine is like, you know, nig..."
      ]
     },
     "execution_count": 16,
     "metadata": {},
     "output_type": "execute_result"
    }
   ],
   "source": [
    "import pandas as pd\n",
    "from selenium import webdriver\n",
    "from selenium.webdriver.common.by import By\n",
    "from selenium.webdriver.support.ui import WebDriverWait\n",
    "from selenium.webdriver.support import expected_conditions as EC\n",
    "import time\n",
    "\n",
    "driver = webdriver.Firefox()\n",
    "driver.get('https://quotes.toscrape.com/js')\n",
    "\n",
    "wait = WebDriverWait(driver, 3)\n",
    "# data = []\n",
    "# quotes = wait.until(EC.presence_of_all_elements_located((By.CLASS_NAME, 'quote'))) # OR quotes = driver.find_elements(By.CLASS_NAME, 'quote')\n",
    "# for quote in quotes:\n",
    "#     text = quote.find_element(By.CLASS_NAME, 'text').text\n",
    "#     data.append({'Quotes': text})\n",
    "\n",
    "# driver.close()\n",
    "# df = pd.DataFrame(data)\n",
    "# df\n",
    "\n"
   ]
  },
  {
   "cell_type": "code",
   "execution_count": 19,
   "id": "7e643397",
   "metadata": {},
   "outputs": [
    {
     "name": "stdout",
     "output_type": "stream",
     "text": [
      "“The world as we have created it is a process of our thinking. It cannot be changed without changing our thinking.” by Albert Einstein\n",
      "“It is our choices, Harry, that show what we truly are, far more than our abilities.” by J.K. Rowling\n",
      "“There are only two ways to live your life. One is as though nothing is a miracle. The other is as though everything is a miracle.” by Albert Einstein\n",
      "“The person, be it gentleman or lady, who has not pleasure in a good novel, must be intolerably stupid.” by Jane Austen\n",
      "“Imperfection is beauty, madness is genius and it's better to be absolutely ridiculous than absolutely boring.” by Marilyn Monroe\n",
      "“Try not to become a man of success. Rather become a man of value.” by Albert Einstein\n",
      "“It is better to be hated for what you are than to be loved for what you are not.” by André Gide\n",
      "“I have not failed. I've just found 10,000 ways that won't work.” by Thomas A. Edison\n",
      "“A woman is like a tea bag; you never know how strong it is until it's in hot water.” by Eleanor Roosevelt\n",
      "“A day without sunshine is like, you know, night.” by Steve Martin\n",
      "“This life is what you make it. No matter what, you're going to mess up sometimes, it's a universal truth. But the good part is you get to decide how you're going to mess it up. Girls will be your friends - they'll act like it anyway. But just remember, some come, some go. The ones that stay with you through everything - they're your true best friends. Don't let go of them. Also remember, sisters make the best friends in the world. As for lovers, well, they'll come and go too. And baby, I hate to say it, most of them - actually pretty much all of them are going to break your heart, but you can't give up because if you give up, you'll never find your soulmate. You'll never find that half who makes you whole and that goes for everything. Just because you fail once, doesn't mean you're gonna fail at everything. Keep trying, hold on, and always, always, always believe in yourself, because if you don't, then who will, sweetie? So keep your head high, keep your chin up, and most importantly, keep smiling, because life's a beautiful thing and there's so much to smile about.” by Marilyn Monroe\n",
      "“It takes a great deal of bravery to stand up to our enemies, but just as much to stand up to our friends.” by J.K. Rowling\n",
      "“If you can't explain it to a six year old, you don't understand it yourself.” by Albert Einstein\n",
      "“You may not be her first, her last, or her only. She loved before she may love again. But if she loves you now, what else matters? She's not perfect—you aren't either, and the two of you may never be perfect together but if she can make you laugh, cause you to think twice, and admit to being human and making mistakes, hold onto her and give her the most you can. She may not be thinking about you every second of the day, but she will give you a part of her that she knows you can break—her heart. So don't hurt her, don't change her, don't analyze and don't expect more than she can give. Smile when she makes you happy, let her know when she makes you mad, and miss her when she's not there.” by Bob Marley\n",
      "“I like nonsense, it wakes up the brain cells. Fantasy is a necessary ingredient in living.” by Dr. Seuss\n",
      "“I may not have gone where I intended to go, but I think I have ended up where I needed to be.” by Douglas Adams\n",
      "“The opposite of love is not hate, it's indifference. The opposite of art is not ugliness, it's indifference. The opposite of faith is not heresy, it's indifference. And the opposite of life is not death, it's indifference.” by Elie Wiesel\n",
      "“It is not a lack of love, but a lack of friendship that makes unhappy marriages.” by Friedrich Nietzsche\n",
      "“Good friends, good books, and a sleepy conscience: this is the ideal life.” by Mark Twain\n",
      "“Life is what happens to us while we are making other plans.” by Allen Saunders\n"
     ]
    }
   ],
   "source": [
    "\n",
    "driver = webdriver.Firefox()\n",
    "driver.get('https://quotes.toscrape.com/js')\n",
    "\n",
    "time.sleep(3)\n",
    "page = 0\n",
    "\n",
    "while page < 2:\n",
    "    quotes = driver.find_elements(By.CLASS_NAME, 'quote')\n",
    "    for i in quotes:\n",
    "        text = i.find_element(By.CLASS_NAME, 'text').text\n",
    "        author = i.find_element(By.CLASS_NAME, 'author').text\n",
    "        print(f'{text} by {author}')\n",
    "    try:\n",
    "        next_button = driver.find_element(By.CSS_SELECTOR, 'li.next a')\n",
    "        next_button.click()\n",
    "        page += 1\n",
    "    except:\n",
    "        break"
   ]
  },
  {
   "cell_type": "code",
   "execution_count": null,
   "id": "4de2e43d",
   "metadata": {},
   "outputs": [],
   "source": [
    "url = \"https://api.prizepicks.com/projections?league_id=7\"\n",
    "driver.webdriver.Firefox()\n",
    "driver.get(url)\n",
    "\n"
   ]
  },
  {
   "cell_type": "code",
   "execution_count": null,
   "id": "a00a2a60",
   "metadata": {},
   "outputs": [],
   "source": []
  }
 ],
 "metadata": {
  "kernelspec": {
   "display_name": "Python 3",
   "language": "python",
   "name": "python3"
  },
  "language_info": {
   "codemirror_mode": {
    "name": "ipython",
    "version": 3
   },
   "file_extension": ".py",
   "mimetype": "text/x-python",
   "name": "python",
   "nbconvert_exporter": "python",
   "pygments_lexer": "ipython3",
   "version": "3.11.5"
  }
 },
 "nbformat": 4,
 "nbformat_minor": 5
}
